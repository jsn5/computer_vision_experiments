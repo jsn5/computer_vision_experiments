{
 "cells": [
  {
   "cell_type": "code",
   "execution_count": 1,
   "metadata": {},
   "outputs": [
    {
     "name": "stderr",
     "output_type": "stream",
     "text": [
      "/usr/local/lib/python3.5/dist-packages/h5py/__init__.py:36: FutureWarning: Conversion of the second argument of issubdtype from `float` to `np.floating` is deprecated. In future, it will be treated as `np.float64 == np.dtype(float).type`.\n",
      "  from ._conv import register_converters as _register_converters\n"
     ]
    }
   ],
   "source": [
    "import numpy as np\n",
    "import pandas as pd\n",
    "import matplotlib.pyplot as plt\n",
    "import os\n",
    "import tensorflow as tf\n",
    "from PIL import Image"
   ]
  },
  {
   "cell_type": "code",
   "execution_count": 2,
   "metadata": {},
   "outputs": [],
   "source": [
    "IMAGE_PATH = \"training_data\"\n",
    "BATCH_SIZE = 50\n",
    "EPOCH = 50\n",
    "TRAINING_SIZE = 0.8"
   ]
  },
  {
   "cell_type": "markdown",
   "metadata": {},
   "source": [
    "### Data preperation"
   ]
  },
  {
   "cell_type": "code",
   "execution_count": 36,
   "metadata": {},
   "outputs": [
    {
     "name": "stdout",
     "output_type": "stream",
     "text": [
      "saving data @ 1260\n",
      "saving data @ 2520\n",
      "saving data @ 3780\n",
      "saving data @ 5040\n",
      "saving data @ 6300\n",
      "saving data @ 7560\n",
      "saving data @ 8820\n",
      "saving data @ 10080\n",
      "saving data @ 11340\n",
      "saving data @ 12600\n"
     ]
    }
   ],
   "source": [
    "size = 256,128\n",
    "\n",
    "def get_image(file_path):\n",
    "    image = Image.open(file_path).convert('RGB')\n",
    "    image.thumbnail(size, Image.ANTIALIAS)\n",
    "    return image\n",
    "        \n",
    "\n",
    "file_path = \"./meta-data/train.csv\"\n",
    "meta_data = pd.read_csv(file_path)\n",
    "\n",
    "meta_data.describe()\n",
    "training_data = []\n",
    "\n",
    "\n",
    "\n",
    "for i in range(len(meta_data)):    \n",
    "    image = get_image(IMAGE_PATH+\"/\"+meta_data.iloc[i][0])\n",
    "    training_data.append([np.array(image),meta_data.iloc[i][1:85]])\n",
    "    if len(training_data) % 1260 == 0:\n",
    "        print(\"saving data @ {}\".format(i+1))\n",
    "        np.save(\"training_data_{}.npy\".format(i),training_data)\n",
    "        training_data = []\n",
    "    \n",
    "    \n",
    "    "
   ]
  },
  {
   "cell_type": "markdown",
   "metadata": {},
   "source": [
    "### Load training data           "
   ]
  },
  {
   "cell_type": "code",
   "execution_count": 39,
   "metadata": {},
   "outputs": [
    {
     "name": "stdout",
     "output_type": "stream",
     "text": [
      "1\n",
      "2\n",
      "3\n",
      "4\n",
      "5\n",
      "6\n",
      "7\n",
      "8\n",
      "9\n",
      "10\n",
      "12600\n"
     ]
    }
   ],
   "source": [
    "X_train = []\n",
    "Y_train = []\n",
    "for i in range(1,11):\n",
    "    training_data = np.load(\"training_data_{}.npy\".format((i*1260)-1))\n",
    "    print(i)\n",
    "    for data in training_data:\n",
    "        X_train.append(data[0])\n",
    "        Y_train.append(data[1])\n",
    "\n",
    "X_train = np.array(X_train)\n",
    "Y_train = np.array(Y_train)\n",
    "\n",
    "print(X_train.size)"
   ]
  },
  {
   "cell_type": "markdown",
   "metadata": {},
   "source": [
    "## Build Tensorflow model"
   ]
  },
  {
   "cell_type": "code",
   "execution_count": 40,
   "metadata": {},
   "outputs": [],
   "source": [
    "def weight_variable(name, shape):\n",
    "    initial = tf.truncated_normal(shape, stddev=0.1)\n",
    "    return tf.get_variable(name, initializer=initial)\n",
    "\n",
    "def bias_variable(name, shape):\n",
    "    initial = tf.constant(0.1, shape=shape)\n",
    "    return tf.get_variable(name, initializer=initial)\n",
    "\n",
    "def conv2d(x, W):\n",
    "    return tf.nn.conv2d(x, W, strides=[1, 1, 1, 1], padding='SAME')\n",
    "\n",
    "def max_pool_2x2(x):\n",
    "    return tf.nn.max_pool(x, ksize=[1, 2, 2, 1], strides=[1, 2, 2, 1], padding='SAME') "
   ]
  },
  {
   "cell_type": "code",
   "execution_count": 49,
   "metadata": {},
   "outputs": [],
   "source": [
    "PIXEL_COUNT = X_train[0].shape[1] * X_train[0].shape[2]\n",
    "LABEL_COUNT = Y_train[0].shape[0]\n",
    "# Create placeholders for image data and expected point positions\n",
    "\n",
    "class Model(object):\n",
    "    xxx = 0\n",
    "    \n",
    "# Build neural network\n",
    "def build_model():\n",
    "    x_placeholder = tf.placeholder(tf.float32, shape=[None, PIXEL_COUNT])\n",
    "    y_placeholder = tf.placeholder(tf.float32, shape=[None, LABEL_COUNT])\n",
    "\n",
    "    x_image = tf.reshape(x_placeholder, [-1, 256, 128, 3])\n",
    "    # Convolution Layer 1\n",
    "    W_conv1 = weight_variable(\"w1\", [5, 5, 1, 32])\n",
    "    b_conv1 = bias_variable(\"b1\", [32])\n",
    "    h_conv1 = tf.nn.relu(conv2d(x_image, W_conv1) + b_conv1)\n",
    "    h_pool1 = max_pool_2x2(h_conv1)\n",
    "    # Convolution Layer 2\n",
    "    W_conv2 = weight_variable(\"w2\", [2, 2, 32, 64])\n",
    "    b_conv2 = bias_variable(\"b2\", [64])\n",
    "    h_conv2 = tf.nn.relu(conv2d(h_pool1, W_conv2) + b_conv2)\n",
    "    h_pool2 = max_pool_2x2(h_conv2)\n",
    "    # Convolution Layer 3\n",
    "    W_conv3 = weight_variable(\"w3\", [2, 2, 64, 128])\n",
    "    b_conv3 = bias_variable(\"b3\", [128])\n",
    "    h_conv3 = tf.nn.relu(conv2d(h_pool2, W_conv3) + b_conv3)\n",
    "    h_pool3 = max_pool_2x2(h_conv3)\n",
    "    # Dense layer 1\n",
    "    h_pool3_flat = tf.reshape(h_pool3, [-1, 8*16*128])\n",
    "    W_fc1 = weight_variable(\"w4\", [8*16*128, 500])\n",
    "    b_fc1 = bias_variable(\"b4\", [500])\n",
    "    h_fc1 = tf.nn.relu(tf.matmul(h_pool3_flat, W_fc1) + b_fc1)   \n",
    "    # Dense layer 2\n",
    "    W_fc2 = weight_variable(\"w5\", [500, 500])\n",
    "    b_fc2 = bias_variable(\"b5\", [500])\n",
    "    h_fc2 = tf.nn.relu(tf.matmul(h_fc1, W_fc2) + b_fc2)  \n",
    "    # Output layer\n",
    "    W_out = weight_variable(\"w6\", [500, LABEL_COUNT])\n",
    "    b_out = bias_variable(\"b6\", [LABEL_COUNT])\n",
    "    \n",
    "    output = tf.matmul(h_fc2, W_out) + b_out\n",
    "    \n",
    "    model = Model()\n",
    "    model.x_placeholder = x_placeholder\n",
    "    model.y_placeholder = y_placeholder\n",
    "    model.output = output\n",
    "    \n",
    "    return model"
   ]
  },
  {
   "cell_type": "code",
   "execution_count": null,
   "metadata": {},
   "outputs": [],
   "source": []
  }
 ],
 "metadata": {
  "kernelspec": {
   "display_name": "Python 3",
   "language": "python",
   "name": "python3"
  },
  "language_info": {
   "codemirror_mode": {
    "name": "ipython",
    "version": 3
   },
   "file_extension": ".py",
   "mimetype": "text/x-python",
   "name": "python",
   "nbconvert_exporter": "python",
   "pygments_lexer": "ipython3",
   "version": "3.5.2"
  }
 },
 "nbformat": 4,
 "nbformat_minor": 2
}
